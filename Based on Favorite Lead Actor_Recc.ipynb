{
 "cells": [
  {
   "cell_type": "markdown",
   "metadata": {},
   "source": [
    "## Recommendation System Based on Favorite Actor (Actor viewed most by User)"
   ]
  },
  {
   "cell_type": "markdown",
   "metadata": {},
   "source": [
    "### Importing the Required Libraries & Files"
   ]
  },
  {
   "cell_type": "code",
   "execution_count": 1,
   "metadata": {
    "collapsed": true
   },
   "outputs": [
    {
     "name": "stderr",
     "output_type": "stream",
     "text": [
      "C:\\Users\\Arpitha Ananth\\Anaconda3\\lib\\site-packages\\pandas\\core\\indexing.py:205: SettingWithCopyWarning: \n",
      "A value is trying to be set on a copy of a slice from a DataFrame\n",
      "\n",
      "See the caveats in the documentation: http://pandas.pydata.org/pandas-docs/stable/user_guide/indexing.html#returning-a-view-versus-a-copy\n",
      "  self._setitem_with_indexer(indexer, value)\n"
     ]
    }
   ],
   "source": [
    "import pandas as pd\n",
    "import numpy as np\n",
    "import sys\n",
    "\n",
    "movies= pd.read_csv(\"movies.dat\",encoding='latin-1',sep='\\t')\n",
    "movies.drop(['imdbID','spanishTitle','rtID','rtID', 'rtAllCriticsRating', 'rtAllCriticsNumReviews',\\\n",
    "       'rtAllCriticsNumFresh', 'rtAllCriticsNumRotten', 'rtAllCriticsScore',\\\n",
    "       'rtTopCriticsRating', 'rtTopCriticsNumReviews', 'rtTopCriticsNumFresh',\\\n",
    "       'rtTopCriticsNumRotten', 'rtTopCriticsScore',\\\n",
    "       'rtAudienceNumRatings', 'rtAudienceScore', 'rtPictureURL'],axis=1,inplace=True)\n",
    "movies['title'].loc[0]='Toy Story'\n",
    "\n",
    "movie_genre= pd.read_csv(\"movie_genres.dat\",encoding='latin-1',sep='\\t')\n",
    "movie_genre = movie_genre.groupby('movieID').agg({ 'genre': ', '.join}).reset_index()\n",
    "\n",
    "movie_director= pd.read_csv('movie_directors.dat',encoding='latin-1',sep='\\t')\n",
    "\n",
    "movie_director.drop(['directorID'],axis=1,inplace=True)\n",
    "\n",
    "movie_actor= pd.read_csv('movie_actors.dat',encoding='latin-1',sep='\\t')\n",
    "movie_actor.drop(['actorID'],axis=1,inplace=True)\n",
    "\n",
    "merge1= pd.merge(movies,movie_genre,left_on='id',right_on='movieID')\n",
    "merge2= pd.merge(merge1,movie_director)\n",
    "merge3= pd.merge(merge2,movie_actor)\n",
    "merge3.drop(['movieID'],axis=1,inplace=True)\n",
    "\n",
    "user_ratedmovies= pd.read_csv('user_ratedmovies.dat',encoding='latin-1',sep='\\t')\n",
    "user_ratedmovies.drop(['date_day', 'date_month', 'date_year',\\\n",
    "       'date_hour', 'date_minute', 'date_second'],axis=1,inplace=True)\n",
    "\n",
    "final_data= pd.merge(merge3,user_ratedmovies,left_on='id',right_on='movieID')"
   ]
  },
  {
   "cell_type": "markdown",
   "metadata": {},
   "source": [
    "### Identifying Favorite Actor of Every User"
   ]
  },
  {
   "cell_type": "code",
   "execution_count": 2,
   "metadata": {},
   "outputs": [],
   "source": [
    "fav_actor1= pd.DataFrame(final_data.groupby(['userID','actorName'])['id'].count())\n",
    "fav_actor1.reset_index(inplace=True)\n",
    "fav_actor1= fav_actor1.merge(fav_actor1.loc[fav_actor1.groupby('userID').id.idxmax(), ['userID', 'actorName']])\n",
    "fav_actor1.set_index(['userID'],inplace=True)"
   ]
  },
  {
   "cell_type": "markdown",
   "metadata": {},
   "source": [
    "### Taking User ID as an input from User"
   ]
  },
  {
   "cell_type": "code",
   "execution_count": 3,
   "metadata": {},
   "outputs": [
    {
     "name": "stdout",
     "output_type": "stream",
     "text": [
      "75\n"
     ]
    }
   ],
   "source": [
    "user=int(input())"
   ]
  },
  {
   "cell_type": "code",
   "execution_count": 4,
   "metadata": {},
   "outputs": [
    {
     "name": "stdout",
     "output_type": "stream",
     "text": [
      "User Found\n"
     ]
    }
   ],
   "source": [
    "### Finding all the movies which has been watched by the User \n",
    "user_ratedmovies.groupby(['userID','movieID']).count()\n",
    "subset_user_ratedmovies= user_ratedmovies[user_ratedmovies['userID']==user]\n",
    "\n",
    "### Checking if User is present in the database or not\n",
    "if len(subset_user_ratedmovies)>=1:\n",
    "    print(\"User Found\")\n",
    "else:\n",
    "    print(\"Invalid User ID, please re-check\")"
   ]
  },
  {
   "cell_type": "code",
   "execution_count": 5,
   "metadata": {},
   "outputs": [
    {
     "data": {
      "text/html": [
       "<div>\n",
       "<style scoped>\n",
       "    .dataframe tbody tr th:only-of-type {\n",
       "        vertical-align: middle;\n",
       "    }\n",
       "\n",
       "    .dataframe tbody tr th {\n",
       "        vertical-align: top;\n",
       "    }\n",
       "\n",
       "    .dataframe thead th {\n",
       "        text-align: right;\n",
       "    }\n",
       "</style>\n",
       "<table border=\"1\" class=\"dataframe\">\n",
       "  <thead>\n",
       "    <tr style=\"text-align: right;\">\n",
       "      <th></th>\n",
       "      <th>movieID</th>\n",
       "      <th>actorName</th>\n",
       "      <th>title</th>\n",
       "      <th>imdbPictureURL</th>\n",
       "      <th>year</th>\n",
       "      <th>rtAudienceRating</th>\n",
       "    </tr>\n",
       "  </thead>\n",
       "  <tbody>\n",
       "    <tr>\n",
       "      <th>39</th>\n",
       "      <td>53972</td>\n",
       "      <td>Bruce Willis</td>\n",
       "      <td>Live Free or Die Hard</td>\n",
       "      <td>http://ia.media-imdb.com/images/M/MV5BNDQxMDE1...</td>\n",
       "      <td>2007</td>\n",
       "      <td>3.9</td>\n",
       "    </tr>\n",
       "    <tr>\n",
       "      <th>37</th>\n",
       "      <td>52281</td>\n",
       "      <td>Bruce Willis</td>\n",
       "      <td>Grindhouse</td>\n",
       "      <td>http://ia.media-imdb.com/images/M/MV5BMjA0MzEx...</td>\n",
       "      <td>2007</td>\n",
       "      <td>3.9</td>\n",
       "    </tr>\n",
       "    <tr>\n",
       "      <th>16</th>\n",
       "      <td>3068</td>\n",
       "      <td>Bruce Willis</td>\n",
       "      <td>The Verdict</td>\n",
       "      <td>http://ia.media-imdb.com/images/M/MV5BMTg1NzA5...</td>\n",
       "      <td>1982</td>\n",
       "      <td>3.8</td>\n",
       "    </tr>\n",
       "    <tr>\n",
       "      <th>0</th>\n",
       "      <td>18</td>\n",
       "      <td>Bruce Willis</td>\n",
       "      <td>Four Rooms</td>\n",
       "      <td>http://ia.media-imdb.com/images/M/MV5BMTcwOTMz...</td>\n",
       "      <td>1995</td>\n",
       "      <td>3.5</td>\n",
       "    </tr>\n",
       "    <tr>\n",
       "      <th>32</th>\n",
       "      <td>8984</td>\n",
       "      <td>Bruce Willis</td>\n",
       "      <td>Ocean's Twelve</td>\n",
       "      <td>http://ia.media-imdb.com/images/M/MV5BMTQzODQw...</td>\n",
       "      <td>2004</td>\n",
       "      <td>3.4</td>\n",
       "    </tr>\n",
       "  </tbody>\n",
       "</table>\n",
       "</div>"
      ],
      "text/plain": [
       "    movieID     actorName                  title  \\\n",
       "39    53972  Bruce Willis  Live Free or Die Hard   \n",
       "37    52281  Bruce Willis             Grindhouse   \n",
       "16     3068  Bruce Willis            The Verdict   \n",
       "0        18  Bruce Willis             Four Rooms   \n",
       "32     8984  Bruce Willis         Ocean's Twelve   \n",
       "\n",
       "                                       imdbPictureURL  year rtAudienceRating  \n",
       "39  http://ia.media-imdb.com/images/M/MV5BNDQxMDE1...  2007              3.9  \n",
       "37  http://ia.media-imdb.com/images/M/MV5BMjA0MzEx...  2007              3.9  \n",
       "16  http://ia.media-imdb.com/images/M/MV5BMTg1NzA5...  1982              3.8  \n",
       "0   http://ia.media-imdb.com/images/M/MV5BMTcwOTMz...  1995              3.5  \n",
       "32  http://ia.media-imdb.com/images/M/MV5BMTQzODQw...  2004              3.4  "
      ]
     },
     "execution_count": 5,
     "metadata": {},
     "output_type": "execute_result"
    }
   ],
   "source": [
    "### Identifying the Favourite Actor of the User from User ID entered\n",
    "\n",
    "actor_needed= fav_actor1[fav_actor1.index==user]['actorName']\n",
    "for i in fav_actor1.index:\n",
    "    if i==user:\n",
    "        actor_needed=fav_actor1['actorName'][i]\n",
    "\n",
    "### Finding all the Movies where the user's favorite actor has played the Lead Role\n",
    "actor_mov= movie_actor[movie_actor['actorName']==actor_needed]\n",
    "\n",
    "### Recommending Movies of Favourite Actor which has not been watched by User Yet\n",
    "df_all = actor_mov.merge(subset_user_ratedmovies.drop_duplicates(), on=['movieID'],how='left', indicator=True)\n",
    "recc1= df_all[df_all['_merge']=='left_only']\n",
    "recc_movie= recc1[['movieID','actorName']]\n",
    "final_recc= pd.merge(recc_movie,movies,left_on='movieID',right_on='id',how='left')\n",
    "final_recc.drop(['id'],inplace=True,axis=1)\n",
    "\n",
    "### List of Movies of Favourite Actor which has not been watched by User Yet\n",
    "final_recc= final_recc.sort_values(by='rtAudienceRating',ascending=False)\n",
    "final_recc.drop_duplicates('title',inplace=True,keep='first')\n",
    "\n",
    "### Top 5 Movie Recommendations\n",
    "final_recc.head(5)"
   ]
  }
 ],
 "metadata": {
  "kernelspec": {
   "display_name": "Python 3",
   "language": "python",
   "name": "python3"
  },
  "language_info": {
   "codemirror_mode": {
    "name": "ipython",
    "version": 3
   },
   "file_extension": ".py",
   "mimetype": "text/x-python",
   "name": "python",
   "nbconvert_exporter": "python",
   "pygments_lexer": "ipython3",
   "version": "3.7.3"
  }
 },
 "nbformat": 4,
 "nbformat_minor": 2
}
