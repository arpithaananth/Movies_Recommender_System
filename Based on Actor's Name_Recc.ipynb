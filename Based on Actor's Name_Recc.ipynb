{
 "cells": [
  {
   "cell_type": "markdown",
   "metadata": {},
   "source": [
    "## Recommendation System Based on  Actor (Actor's Name as User Input)"
   ]
  },
  {
   "cell_type": "markdown",
   "metadata": {},
   "source": [
    "### Importing the Required Libraries & Files"
   ]
  },
  {
   "cell_type": "code",
   "execution_count": 1,
   "metadata": {
    "collapsed": true
   },
   "outputs": [
    {
     "name": "stderr",
     "output_type": "stream",
     "text": [
      "C:\\Users\\Arpitha Ananth\\Anaconda3\\lib\\site-packages\\pandas\\core\\indexing.py:205: SettingWithCopyWarning: \n",
      "A value is trying to be set on a copy of a slice from a DataFrame\n",
      "\n",
      "See the caveats in the documentation: http://pandas.pydata.org/pandas-docs/stable/user_guide/indexing.html#returning-a-view-versus-a-copy\n",
      "  self._setitem_with_indexer(indexer, value)\n"
     ]
    }
   ],
   "source": [
    "import pandas as pd\n",
    "import numpy as np\n",
    "import sys\n",
    "\n",
    "movies= pd.read_csv(\"movies.dat\",encoding='latin-1',sep='\\t')\n",
    "movies.drop(['imdbID','spanishTitle','rtID','rtID', 'rtAllCriticsRating', 'rtAllCriticsNumReviews',\\\n",
    "       'rtAllCriticsNumFresh', 'rtAllCriticsNumRotten', 'rtAllCriticsScore',\\\n",
    "       'rtTopCriticsRating', 'rtTopCriticsNumReviews', 'rtTopCriticsNumFresh',\\\n",
    "       'rtTopCriticsNumRotten', 'rtTopCriticsScore',\\\n",
    "       'rtAudienceNumRatings', 'rtAudienceScore', 'rtPictureURL'],axis=1,inplace=True)\n",
    "movies['title'].loc[0]='Toy Story'\n",
    "\n",
    "movie_genre= pd.read_csv(\"movie_genres.dat\",encoding='latin-1',sep='\\t')\n",
    "movie_genre = movie_genre.groupby('movieID').agg({ 'genre': ', '.join}).reset_index()\n",
    "\n",
    "movie_director= pd.read_csv('movie_directors.dat',encoding='latin-1',sep='\\t')\n",
    "\n",
    "movie_director.drop(['directorID'],axis=1,inplace=True)\n",
    "\n",
    "movie_actor= pd.read_csv('movie_actors.dat',encoding='latin-1',sep='\\t')\n",
    "movie_actor.drop(['actorID'],axis=1,inplace=True)\n",
    "\n",
    "merge1= pd.merge(movies,movie_genre,left_on='id',right_on='movieID')\n",
    "merge2= pd.merge(merge1,movie_director)\n",
    "merge3= pd.merge(merge2,movie_actor)\n",
    "merge3.drop(['movieID'],axis=1,inplace=True)\n",
    "\n",
    "user_ratedmovies= pd.read_csv('user_ratedmovies.dat',encoding='latin-1',sep='\\t')\n",
    "user_ratedmovies.drop(['date_day', 'date_month', 'date_year',\\\n",
    "       'date_hour', 'date_minute', 'date_second'],axis=1,inplace=True)\n",
    "\n",
    "final_data= pd.merge(merge3,user_ratedmovies,left_on='id',right_on='movieID')"
   ]
  },
  {
   "cell_type": "markdown",
   "metadata": {},
   "source": [
    "### Taking Actor's Name as User Input"
   ]
  },
  {
   "cell_type": "code",
   "execution_count": 2,
   "metadata": {},
   "outputs": [
    {
     "name": "stdout",
     "output_type": "stream",
     "text": [
      "Enter the Full Name of the Actor: Bill Farmer\n"
     ]
    }
   ],
   "source": [
    "actor_needed= str(input(\"Enter the Full Name of the Actor: \"))"
   ]
  },
  {
   "cell_type": "code",
   "execution_count": 3,
   "metadata": {},
   "outputs": [
    {
     "name": "stdout",
     "output_type": "stream",
     "text": [
      "Actor Found\n"
     ]
    }
   ],
   "source": [
    "### Finding all the Movies where the actor has played the Lead Role\n",
    "actor_mov= movie_actor[movie_actor['actorName']==actor_needed]\n",
    "\n",
    "### Checking if Actor is present in the database or not\n",
    "if len(actor_mov)>=1:\n",
    "    print(\"Actor Found\")\n",
    "else:\n",
    "    print(\"There is no Actor by this Name, please re-check\")\n",
    "    sys.exit(\"Actor Not Found in Database\")"
   ]
  },
  {
   "cell_type": "markdown",
   "metadata": {},
   "source": [
    "### Finding all the movies which has been watched by the User "
   ]
  },
  {
   "cell_type": "code",
   "execution_count": 4,
   "metadata": {},
   "outputs": [
    {
     "name": "stdout",
     "output_type": "stream",
     "text": [
      "Enter your User ID : 78\n"
     ]
    }
   ],
   "source": [
    "user_ratedmovies.groupby(['userID','movieID']).count()\n",
    "user= int(input(\"Enter your User ID : \"))"
   ]
  },
  {
   "cell_type": "code",
   "execution_count": 5,
   "metadata": {},
   "outputs": [
    {
     "name": "stdout",
     "output_type": "stream",
     "text": [
      "User Found\n"
     ]
    }
   ],
   "source": [
    "subset_user_ratedmovies= user_ratedmovies[user_ratedmovies['userID']==user]\n",
    "\n",
    "### Checking if User is present in the database or not\n",
    "if len(subset_user_ratedmovies)>=1:\n",
    "    print(\"User Found\")\n",
    "else:\n",
    "    print(\"Invalid User ID, please re-check\")\n",
    "    sys.exit(\"User Not Found In Database\")"
   ]
  },
  {
   "cell_type": "code",
   "execution_count": 6,
   "metadata": {},
   "outputs": [
    {
     "data": {
      "text/html": [
       "<div>\n",
       "<style scoped>\n",
       "    .dataframe tbody tr th:only-of-type {\n",
       "        vertical-align: middle;\n",
       "    }\n",
       "\n",
       "    .dataframe tbody tr th {\n",
       "        vertical-align: top;\n",
       "    }\n",
       "\n",
       "    .dataframe thead th {\n",
       "        text-align: right;\n",
       "    }\n",
       "</style>\n",
       "<table border=\"1\" class=\"dataframe\">\n",
       "  <thead>\n",
       "    <tr style=\"text-align: right;\">\n",
       "      <th></th>\n",
       "      <th>movieID</th>\n",
       "      <th>actorName</th>\n",
       "      <th>title</th>\n",
       "      <th>imdbPictureURL</th>\n",
       "      <th>year</th>\n",
       "      <th>rtAudienceRating</th>\n",
       "    </tr>\n",
       "  </thead>\n",
       "  <tbody>\n",
       "    <tr>\n",
       "      <th>0</th>\n",
       "      <td>1</td>\n",
       "      <td>Bill Farmer</td>\n",
       "      <td>Toy Story</td>\n",
       "      <td>http://ia.media-imdb.com/images/M/MV5BMTMwNDU0...</td>\n",
       "      <td>1995</td>\n",
       "      <td>3.7</td>\n",
       "    </tr>\n",
       "    <tr>\n",
       "      <th>6</th>\n",
       "      <td>45517</td>\n",
       "      <td>Bill Farmer</td>\n",
       "      <td>Cars</td>\n",
       "      <td>http://ia.media-imdb.com/images/M/MV5BMTQ1NTIx...</td>\n",
       "      <td>2006</td>\n",
       "      <td>3.7</td>\n",
       "    </tr>\n",
       "    <tr>\n",
       "      <th>7</th>\n",
       "      <td>58299</td>\n",
       "      <td>Bill Farmer</td>\n",
       "      <td>Horton Hears a Who!</td>\n",
       "      <td>http://ia.media-imdb.com/images/M/MV5BMTI3NDA3...</td>\n",
       "      <td>2008</td>\n",
       "      <td>3.7</td>\n",
       "    </tr>\n",
       "    <tr>\n",
       "      <th>1</th>\n",
       "      <td>239</td>\n",
       "      <td>Bill Farmer</td>\n",
       "      <td>A Goofy Movie</td>\n",
       "      <td>http://ia.media-imdb.com/images/M/MV5BMTI0Mjgz...</td>\n",
       "      <td>1995</td>\n",
       "      <td>3.1</td>\n",
       "    </tr>\n",
       "    <tr>\n",
       "      <th>2</th>\n",
       "      <td>673</td>\n",
       "      <td>Bill Farmer</td>\n",
       "      <td>Space Jam</td>\n",
       "      <td>http://ia.media-imdb.com/images/M/MV5BMTQ5NDg1...</td>\n",
       "      <td>1996</td>\n",
       "      <td>2.9</td>\n",
       "    </tr>\n",
       "  </tbody>\n",
       "</table>\n",
       "</div>"
      ],
      "text/plain": [
       "   movieID    actorName                title  \\\n",
       "0        1  Bill Farmer            Toy Story   \n",
       "6    45517  Bill Farmer                 Cars   \n",
       "7    58299  Bill Farmer  Horton Hears a Who!   \n",
       "1      239  Bill Farmer        A Goofy Movie   \n",
       "2      673  Bill Farmer            Space Jam   \n",
       "\n",
       "                                      imdbPictureURL  year rtAudienceRating  \n",
       "0  http://ia.media-imdb.com/images/M/MV5BMTMwNDU0...  1995              3.7  \n",
       "6  http://ia.media-imdb.com/images/M/MV5BMTQ1NTIx...  2006              3.7  \n",
       "7  http://ia.media-imdb.com/images/M/MV5BMTI3NDA3...  2008              3.7  \n",
       "1  http://ia.media-imdb.com/images/M/MV5BMTI0Mjgz...  1995              3.1  \n",
       "2  http://ia.media-imdb.com/images/M/MV5BMTQ5NDg1...  1996              2.9  "
      ]
     },
     "execution_count": 6,
     "metadata": {},
     "output_type": "execute_result"
    }
   ],
   "source": [
    "### Recommending Movies of the Actor which has not been watched by User Yet\n",
    "\n",
    "df_all = actor_mov.merge(subset_user_ratedmovies.drop_duplicates(), on=['movieID'],how='left', indicator=True)\n",
    "recc1= df_all[df_all['_merge']=='left_only']\n",
    "recc_movie= recc1[['movieID','actorName']]\n",
    "final_recc= pd.merge(recc_movie,movies,left_on='movieID',right_on='id',how='left')\n",
    "final_recc.drop(['id'],inplace=True,axis=1)\n",
    "\n",
    "### List of Movies of the Actor which has not been watched by User Yet\n",
    "final_recc= final_recc.sort_values(by='rtAudienceRating',ascending=False)\n",
    "final_recc.drop_duplicates('title',inplace=True,keep='first')\n",
    "\n",
    "###Top 5  Movie Recommendations\n",
    "final_recc.head(5)"
   ]
  }
 ],
 "metadata": {
  "kernelspec": {
   "display_name": "Python 3",
   "language": "python",
   "name": "python3"
  },
  "language_info": {
   "codemirror_mode": {
    "name": "ipython",
    "version": 3
   },
   "file_extension": ".py",
   "mimetype": "text/x-python",
   "name": "python",
   "nbconvert_exporter": "python",
   "pygments_lexer": "ipython3",
   "version": "3.7.3"
  }
 },
 "nbformat": 4,
 "nbformat_minor": 2
}
