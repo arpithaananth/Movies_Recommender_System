{
 "cells": [
  {
   "cell_type": "markdown",
   "metadata": {},
   "source": [
    "## Recommendation System Based on Favorite Director (Director viewed most by User)"
   ]
  },
  {
   "cell_type": "markdown",
   "metadata": {},
   "source": [
    "### Importing the Required Libraries & Files"
   ]
  },
  {
   "cell_type": "code",
   "execution_count": 18,
   "metadata": {},
   "outputs": [],
   "source": [
    "import pandas as pd\n",
    "import numpy as np\n",
    "import sys\n",
    "\n",
    "movies= pd.read_csv(\"movies.dat\",encoding='latin-1',sep='\\t')\n",
    "movies.drop(['imdbID','spanishTitle','rtID','rtID', 'rtAllCriticsRating', 'rtAllCriticsNumReviews',\\\n",
    "       'rtAllCriticsNumFresh', 'rtAllCriticsNumRotten', 'rtAllCriticsScore',\\\n",
    "       'rtTopCriticsRating', 'rtTopCriticsNumReviews', 'rtTopCriticsNumFresh',\\\n",
    "       'rtTopCriticsNumRotten', 'rtTopCriticsScore',\\\n",
    "       'rtAudienceNumRatings', 'rtAudienceScore', 'rtPictureURL'],axis=1,inplace=True)\n",
    "movies['title'].loc[0]='Toy Story'\n",
    "\n",
    "movie_genre= pd.read_csv(\"movie_genres.dat\",encoding='latin-1',sep='\\t')\n",
    "movie_genre = movie_genre.groupby('movieID').agg({ 'genre': ', '.join}).reset_index()\n",
    "\n",
    "movie_director= pd.read_csv('movie_directors.dat',encoding='latin-1',sep='\\t')\n",
    "\n",
    "movie_director.drop(['directorID'],axis=1,inplace=True)\n",
    "\n",
    "movie_actor= pd.read_csv('movie_actors.dat',encoding='latin-1',sep='\\t')\n",
    "movie_actor.drop(['actorID'],axis=1,inplace=True)\n",
    "\n",
    "merge1= pd.merge(movies,movie_genre,left_on='id',right_on='movieID')\n",
    "merge2= pd.merge(merge1,movie_director)\n",
    "merge3= pd.merge(merge2,movie_actor)\n",
    "merge3.drop(['movieID'],axis=1,inplace=True)\n",
    "\n",
    "user_ratedmovies= pd.read_csv('user_ratedmovies.dat',encoding='latin-1',sep='\\t')\n",
    "user_ratedmovies.drop(['date_day', 'date_month', 'date_year',\\\n",
    "       'date_hour', 'date_minute', 'date_second'],axis=1,inplace=True)\n",
    "\n",
    "final_data= pd.merge(merge3,user_ratedmovies,left_on='id',right_on='movieID')"
   ]
  },
  {
   "cell_type": "markdown",
   "metadata": {},
   "source": [
    "### Identifying Favorite Director of Every User"
   ]
  },
  {
   "cell_type": "code",
   "execution_count": 19,
   "metadata": {},
   "outputs": [],
   "source": [
    "fav_dir1= pd.DataFrame(final_data.groupby(['userID','directorName'])['id'].count())\n",
    "fav_dir1.reset_index(inplace=True)\n",
    "fav_dir1= fav_dir1.merge(fav_dir1.loc[fav_dir1.groupby('userID').id.idxmax(), ['userID', 'directorName']])\n",
    "fav_dir1.set_index(['userID'],inplace=True)"
   ]
  },
  {
   "cell_type": "markdown",
   "metadata": {},
   "source": [
    "### Taking User ID as an input from User"
   ]
  },
  {
   "cell_type": "code",
   "execution_count": 20,
   "metadata": {},
   "outputs": [
    {
     "name": "stdout",
     "output_type": "stream",
     "text": [
      "Please enter the User ID: 75\n"
     ]
    }
   ],
   "source": [
    "user=int(input(\"Please enter the User ID: \"))"
   ]
  },
  {
   "cell_type": "code",
   "execution_count": 21,
   "metadata": {},
   "outputs": [
    {
     "name": "stdout",
     "output_type": "stream",
     "text": [
      "User Found\n"
     ]
    }
   ],
   "source": [
    "### Finding all the movies which has been watched by the User \n",
    "user_ratedmovies.groupby(['userID','movieID']).count()\n",
    "subset_user_ratedmovies= user_ratedmovies[user_ratedmovies['userID']==user]\n",
    "\n",
    "### Checking if User is present in the database or not\n",
    "if len(subset_user_ratedmovies)>=1:\n",
    "    print(\"User Found\")\n",
    "else:\n",
    "    print(\"Invalid User ID, please re-check\")"
   ]
  },
  {
   "cell_type": "code",
   "execution_count": 22,
   "metadata": {},
   "outputs": [
    {
     "data": {
      "text/html": [
       "<div>\n",
       "<style scoped>\n",
       "    .dataframe tbody tr th:only-of-type {\n",
       "        vertical-align: middle;\n",
       "    }\n",
       "\n",
       "    .dataframe tbody tr th {\n",
       "        vertical-align: top;\n",
       "    }\n",
       "\n",
       "    .dataframe thead th {\n",
       "        text-align: right;\n",
       "    }\n",
       "</style>\n",
       "<table border=\"1\" class=\"dataframe\">\n",
       "  <thead>\n",
       "    <tr style=\"text-align: right;\">\n",
       "      <th></th>\n",
       "      <th>movieID</th>\n",
       "      <th>directorName</th>\n",
       "      <th>title</th>\n",
       "      <th>imdbPictureURL</th>\n",
       "      <th>year</th>\n",
       "      <th>rtAudienceRating</th>\n",
       "    </tr>\n",
       "  </thead>\n",
       "  <tbody>\n",
       "    <tr>\n",
       "      <th>1</th>\n",
       "      <td>1610</td>\n",
       "      <td>John McTiernan</td>\n",
       "      <td>The Hunt for Red October</td>\n",
       "      <td>http://ia.media-imdb.com/images/M/MV5BMTgxMTE3...</td>\n",
       "      <td>1990</td>\n",
       "      <td>3.6</td>\n",
       "    </tr>\n",
       "    <tr>\n",
       "      <th>6</th>\n",
       "      <td>3527</td>\n",
       "      <td>John McTiernan</td>\n",
       "      <td>Predator</td>\n",
       "      <td>http://ia.media-imdb.com/images/M/MV5BMTM1Njk0...</td>\n",
       "      <td>1987</td>\n",
       "      <td>3.5</td>\n",
       "    </tr>\n",
       "    <tr>\n",
       "      <th>2</th>\n",
       "      <td>2763</td>\n",
       "      <td>John McTiernan</td>\n",
       "      <td>The Thomas Crown Affair</td>\n",
       "      <td>http://ia.media-imdb.com/images/M/MV5BMjE3NzU4...</td>\n",
       "      <td>1999</td>\n",
       "      <td>3.3</td>\n",
       "    </tr>\n",
       "    <tr>\n",
       "      <th>5</th>\n",
       "      <td>2826</td>\n",
       "      <td>John McTiernan</td>\n",
       "      <td>The 13th Warrior</td>\n",
       "      <td>http://ia.media-imdb.com/images/M/MV5BMTczNjA5...</td>\n",
       "      <td>1999</td>\n",
       "      <td>3.2</td>\n",
       "    </tr>\n",
       "    <tr>\n",
       "      <th>8</th>\n",
       "      <td>6263</td>\n",
       "      <td>John McTiernan</td>\n",
       "      <td>Basic</td>\n",
       "      <td>http://ia.media-imdb.com/images/M/MV5BMTY5ODE5...</td>\n",
       "      <td>2003</td>\n",
       "      <td>3.2</td>\n",
       "    </tr>\n",
       "  </tbody>\n",
       "</table>\n",
       "</div>"
      ],
      "text/plain": [
       "   movieID    directorName                     title  \\\n",
       "1     1610  John McTiernan  The Hunt for Red October   \n",
       "6     3527  John McTiernan                  Predator   \n",
       "2     2763  John McTiernan   The Thomas Crown Affair   \n",
       "5     2826  John McTiernan          The 13th Warrior   \n",
       "8     6263  John McTiernan                     Basic   \n",
       "\n",
       "                                      imdbPictureURL  year rtAudienceRating  \n",
       "1  http://ia.media-imdb.com/images/M/MV5BMTgxMTE3...  1990              3.6  \n",
       "6  http://ia.media-imdb.com/images/M/MV5BMTM1Njk0...  1987              3.5  \n",
       "2  http://ia.media-imdb.com/images/M/MV5BMjE3NzU4...  1999              3.3  \n",
       "5  http://ia.media-imdb.com/images/M/MV5BMTczNjA5...  1999              3.2  \n",
       "8  http://ia.media-imdb.com/images/M/MV5BMTY5ODE5...  2003              3.2  "
      ]
     },
     "execution_count": 22,
     "metadata": {},
     "output_type": "execute_result"
    }
   ],
   "source": [
    "### Identifying the Favourite Director of the User from User ID entered\n",
    "\n",
    "dir_needed= fav_dir1[fav_dir1.index==user]['directorName']\n",
    "for i in fav_dir1.index:\n",
    "    if i==user:\n",
    "        dir_needed=fav_dir1['directorName'][i]\n",
    "\n",
    "### Finding all the Movies where the user's favorite Director has played the Lead Role\n",
    "\n",
    "dir_mov= movie_director[movie_director['directorName']==dir_needed]\n",
    "\n",
    "\n",
    "### Recommending Movies of Favourite Director which has not been watched by User Yet\n",
    "\n",
    "df_all = dir_mov.merge(subset_user_ratedmovies.drop_duplicates(), on=['movieID'],how='left', indicator=True)\n",
    "recc1= df_all[df_all['_merge']=='left_only']\n",
    "recc_movie= recc1[['movieID','directorName']]\n",
    "final_recc= pd.merge(recc_movie,movies,left_on='movieID',right_on='id',how='left')\n",
    "final_recc.drop(['id'],inplace=True,axis=1)\n",
    "\n",
    "### List of Movies of Favourite Director which has not been watched by User Yet\n",
    "\n",
    "final_recc= final_recc.sort_values(by='rtAudienceRating',ascending=False)\n",
    "final_recc.drop_duplicates('title',inplace=True,keep='first')\n",
    "### Top 5 Movie Recommendations\n",
    "\n",
    "final_recc.head(5)"
   ]
  }
 ],
 "metadata": {
  "kernelspec": {
   "display_name": "Python 3",
   "language": "python",
   "name": "python3"
  },
  "language_info": {
   "codemirror_mode": {
    "name": "ipython",
    "version": 3
   },
   "file_extension": ".py",
   "mimetype": "text/x-python",
   "name": "python",
   "nbconvert_exporter": "python",
   "pygments_lexer": "ipython3",
   "version": "3.7.3"
  }
 },
 "nbformat": 4,
 "nbformat_minor": 2
}
