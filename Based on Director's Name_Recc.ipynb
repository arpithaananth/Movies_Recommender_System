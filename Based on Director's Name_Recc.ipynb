{
 "cells": [
  {
   "cell_type": "markdown",
   "metadata": {},
   "source": [
    "## Recommendation System Based on  Director (Director's Name taken as User Input)"
   ]
  },
  {
   "cell_type": "markdown",
   "metadata": {},
   "source": [
    "### Importing the Required Libraries & Files"
   ]
  },
  {
   "cell_type": "code",
   "execution_count": 9,
   "metadata": {},
   "outputs": [],
   "source": [
    "import pandas as pd\n",
    "import numpy as np\n",
    "import sys\n",
    "\n",
    "movies= pd.read_csv(\"movies.dat\",encoding='latin-1',sep='\\t')\n",
    "movies.drop(['imdbID','spanishTitle','rtID','rtID', 'rtAllCriticsRating', 'rtAllCriticsNumReviews',\\\n",
    "       'rtAllCriticsNumFresh', 'rtAllCriticsNumRotten', 'rtAllCriticsScore',\\\n",
    "       'rtTopCriticsRating', 'rtTopCriticsNumReviews', 'rtTopCriticsNumFresh',\\\n",
    "       'rtTopCriticsNumRotten', 'rtTopCriticsScore',\\\n",
    "       'rtAudienceNumRatings', 'rtAudienceScore', 'rtPictureURL'],axis=1,inplace=True)\n",
    "movies['title'].loc[0]='Toy Story'\n",
    "\n",
    "movie_genre= pd.read_csv(\"movie_genres.dat\",encoding='latin-1',sep='\\t')\n",
    "movie_genre = movie_genre.groupby('movieID').agg({ 'genre': ', '.join}).reset_index()\n",
    "\n",
    "movie_director= pd.read_csv('movie_directors.dat',encoding='latin-1',sep='\\t')\n",
    "\n",
    "movie_director.drop(['directorID'],axis=1,inplace=True)\n",
    "\n",
    "movie_actor= pd.read_csv('movie_actors.dat',encoding='latin-1',sep='\\t')\n",
    "movie_actor.drop(['actorID'],axis=1,inplace=True)\n",
    "\n",
    "merge1= pd.merge(movies,movie_genre,left_on='id',right_on='movieID')\n",
    "merge2= pd.merge(merge1,movie_director)\n",
    "merge3= pd.merge(merge2,movie_actor)\n",
    "merge3.drop(['movieID'],axis=1,inplace=True)\n",
    "\n",
    "user_ratedmovies= pd.read_csv('user_ratedmovies.dat',encoding='latin-1',sep='\\t')\n",
    "user_ratedmovies.drop(['date_day', 'date_month', 'date_year',\\\n",
    "       'date_hour', 'date_minute', 'date_second'],axis=1,inplace=True)\n",
    "\n",
    "final_data= pd.merge(merge3,user_ratedmovies,left_on='id',right_on='movieID')"
   ]
  },
  {
   "cell_type": "markdown",
   "metadata": {},
   "source": [
    "### Taking Director's Name as User Input"
   ]
  },
  {
   "cell_type": "code",
   "execution_count": 10,
   "metadata": {},
   "outputs": [
    {
     "name": "stdout",
     "output_type": "stream",
     "text": [
      "Enter the Full Name of the Director: John Woo\n"
     ]
    }
   ],
   "source": [
    "dir_needed= str(input(\"Enter the Full Name of the Director: \"))"
   ]
  },
  {
   "cell_type": "code",
   "execution_count": 11,
   "metadata": {},
   "outputs": [
    {
     "name": "stdout",
     "output_type": "stream",
     "text": [
      "Director Found\n"
     ]
    }
   ],
   "source": [
    "### Finding all the Movies directed by Director\n",
    "dir_mov= movie_director[movie_director['directorName']==dir_needed]\n",
    "\n",
    "### Checking if Director is present in the database or not\n",
    "if len(dir_mov)>=1:\n",
    "    print(\"Director Found\")\n",
    "else:\n",
    "    print(\"Director Not Found in Database\")\n",
    "    sys.exit(\"There is no Director by this Name, please re-check\")"
   ]
  },
  {
   "cell_type": "markdown",
   "metadata": {},
   "source": [
    "### Finding all the movies which has been watched by the User "
   ]
  },
  {
   "cell_type": "code",
   "execution_count": 12,
   "metadata": {},
   "outputs": [
    {
     "name": "stdout",
     "output_type": "stream",
     "text": [
      "Enter your User ID : 78\n"
     ]
    }
   ],
   "source": [
    "user_ratedmovies.groupby(['userID','movieID']).count()\n",
    "user= int(input(\"Enter your User ID : \"))"
   ]
  },
  {
   "cell_type": "code",
   "execution_count": 13,
   "metadata": {},
   "outputs": [
    {
     "name": "stdout",
     "output_type": "stream",
     "text": [
      "User Found\n"
     ]
    }
   ],
   "source": [
    "subset_user_ratedmovies= user_ratedmovies[user_ratedmovies['userID']==user]\n",
    "### Checking if User is present in the database or not\n",
    "if len(subset_user_ratedmovies)>=1:\n",
    "    print(\"User Found\")\n",
    "else:\n",
    "    print(\"Invalid User ID, please re-check\")\n",
    "    sys.exit(\"User ID Not Found in Database\")"
   ]
  },
  {
   "cell_type": "code",
   "execution_count": 14,
   "metadata": {},
   "outputs": [
    {
     "data": {
      "text/html": [
       "<div>\n",
       "<style scoped>\n",
       "    .dataframe tbody tr th:only-of-type {\n",
       "        vertical-align: middle;\n",
       "    }\n",
       "\n",
       "    .dataframe tbody tr th {\n",
       "        vertical-align: top;\n",
       "    }\n",
       "\n",
       "    .dataframe thead th {\n",
       "        text-align: right;\n",
       "    }\n",
       "</style>\n",
       "<table border=\"1\" class=\"dataframe\">\n",
       "  <thead>\n",
       "    <tr style=\"text-align: right;\">\n",
       "      <th></th>\n",
       "      <th>movieID</th>\n",
       "      <th>directorName</th>\n",
       "      <th>title</th>\n",
       "      <th>imdbPictureURL</th>\n",
       "      <th>year</th>\n",
       "      <th>rtAudienceRating</th>\n",
       "    </tr>\n",
       "  </thead>\n",
       "  <tbody>\n",
       "    <tr>\n",
       "      <th>4</th>\n",
       "      <td>1218</td>\n",
       "      <td>John Woo</td>\n",
       "      <td>Dip huet seung hung</td>\n",
       "      <td>http://ia.media-imdb.com/images/M/MV5BMTIzNjAy...</td>\n",
       "      <td>1989</td>\n",
       "      <td>4</td>\n",
       "    </tr>\n",
       "    <tr>\n",
       "      <th>3</th>\n",
       "      <td>702</td>\n",
       "      <td>John Woo</td>\n",
       "      <td>Face/Off</td>\n",
       "      <td>http://ia.media-imdb.com/images/M/MV5BMTQ3MDY4...</td>\n",
       "      <td>1997</td>\n",
       "      <td>3.5</td>\n",
       "    </tr>\n",
       "    <tr>\n",
       "      <th>6</th>\n",
       "      <td>5420</td>\n",
       "      <td>John Woo</td>\n",
       "      <td>Windtalkers</td>\n",
       "      <td>http://ia.media-imdb.com/images/M/MV5BODY3OTI4...</td>\n",
       "      <td>2002</td>\n",
       "      <td>3.2</td>\n",
       "    </tr>\n",
       "    <tr>\n",
       "      <th>0</th>\n",
       "      <td>95</td>\n",
       "      <td>John Woo</td>\n",
       "      <td>Broken Arrow</td>\n",
       "      <td>http://ia.media-imdb.com/images/M/MV5BMjE0NjIw...</td>\n",
       "      <td>1996</td>\n",
       "      <td>2.9</td>\n",
       "    </tr>\n",
       "    <tr>\n",
       "      <th>1</th>\n",
       "      <td>139</td>\n",
       "      <td>John Woo</td>\n",
       "      <td>Hard Target</td>\n",
       "      <td>http://ia.media-imdb.com/images/M/MV5BODQxMzY3...</td>\n",
       "      <td>1993</td>\n",
       "      <td>0</td>\n",
       "    </tr>\n",
       "  </tbody>\n",
       "</table>\n",
       "</div>"
      ],
      "text/plain": [
       "   movieID directorName                title  \\\n",
       "4     1218     John Woo  Dip huet seung hung   \n",
       "3      702     John Woo             Face/Off   \n",
       "6     5420     John Woo          Windtalkers   \n",
       "0       95     John Woo         Broken Arrow   \n",
       "1      139     John Woo          Hard Target   \n",
       "\n",
       "                                      imdbPictureURL  year rtAudienceRating  \n",
       "4  http://ia.media-imdb.com/images/M/MV5BMTIzNjAy...  1989                4  \n",
       "3  http://ia.media-imdb.com/images/M/MV5BMTQ3MDY4...  1997              3.5  \n",
       "6  http://ia.media-imdb.com/images/M/MV5BODY3OTI4...  2002              3.2  \n",
       "0  http://ia.media-imdb.com/images/M/MV5BMjE0NjIw...  1996              2.9  \n",
       "1  http://ia.media-imdb.com/images/M/MV5BODQxMzY3...  1993                0  "
      ]
     },
     "execution_count": 14,
     "metadata": {},
     "output_type": "execute_result"
    }
   ],
   "source": [
    "### Recommending Movies of Director which has not been watched by User Yet\n",
    "\n",
    "df_all = dir_mov.merge(subset_user_ratedmovies.drop_duplicates(), on=['movieID'],how='left', indicator=True)\n",
    "recc1= df_all[df_all['_merge']=='left_only']\n",
    "recc_movie= recc1[['movieID','directorName']]\n",
    "final_recc= pd.merge(recc_movie,movies,left_on='movieID',right_on='id',how='left')\n",
    "final_recc.drop(['id'],inplace=True,axis=1)\n",
    "\n",
    "### List of Movies of the Director which has not been watched by User Yet\n",
    "final_recc= final_recc.sort_values(by='rtAudienceRating',ascending=False)\n",
    "final_recc.drop_duplicates('title',inplace=True,keep='first')\n",
    "### Top 5 Movie Recommendations\n",
    "final_recc.head(5)"
   ]
  }
 ],
 "metadata": {
  "kernelspec": {
   "display_name": "Python 3",
   "language": "python",
   "name": "python3"
  },
  "language_info": {
   "codemirror_mode": {
    "name": "ipython",
    "version": 3
   },
   "file_extension": ".py",
   "mimetype": "text/x-python",
   "name": "python",
   "nbconvert_exporter": "python",
   "pygments_lexer": "ipython3",
   "version": "3.7.3"
  }
 },
 "nbformat": 4,
 "nbformat_minor": 2
}
